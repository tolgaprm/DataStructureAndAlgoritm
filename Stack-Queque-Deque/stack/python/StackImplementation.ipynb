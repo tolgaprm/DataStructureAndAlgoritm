{
 "cells": [
  {
   "cell_type": "code",
   "execution_count": 4,
   "id": "6b7854f4",
   "metadata": {},
   "outputs": [],
   "source": [
    "class Stack():\n",
    "    \n",
    "    def __init__(self):\n",
    "        self.elements = []\n",
    "        \n",
    "    def isEmpty(self):\n",
    "        return self.elements == []\n",
    "    \n",
    "    def push(self,element):\n",
    "        self.elements.append(element)\n",
    "    \n",
    "    def pop(self):\n",
    "        return self.elements.pop()\n",
    "    \n",
    "    def peek(self):\n",
    "        return self.elements[len(self.elements) -1 ]\n",
    "    \n",
    "    def size(self):\n",
    "        return len(self.elements)"
   ]
  },
  {
   "cell_type": "code",
   "execution_count": 5,
   "id": "bedd6e94",
   "metadata": {},
   "outputs": [],
   "source": [
    "myStack = Stack()"
   ]
  },
  {
   "cell_type": "code",
   "execution_count": 6,
   "id": "e35b418c",
   "metadata": {},
   "outputs": [
    {
     "data": {
      "text/plain": [
       "True"
      ]
     },
     "execution_count": 6,
     "metadata": {},
     "output_type": "execute_result"
    }
   ],
   "source": [
    "myStack.isEmpty()"
   ]
  },
  {
   "cell_type": "code",
   "execution_count": 7,
   "id": "418db8b7",
   "metadata": {},
   "outputs": [],
   "source": [
    "myStack.push(10)"
   ]
  },
  {
   "cell_type": "code",
   "execution_count": 8,
   "id": "e1ad5c94",
   "metadata": {},
   "outputs": [],
   "source": [
    "myStack.push(20)"
   ]
  },
  {
   "cell_type": "code",
   "execution_count": 9,
   "id": "e6cd5976",
   "metadata": {},
   "outputs": [],
   "source": [
    "myStack.push(30)"
   ]
  },
  {
   "cell_type": "code",
   "execution_count": 10,
   "id": "aaa20429",
   "metadata": {},
   "outputs": [],
   "source": [
    "myStack.push(40)"
   ]
  },
  {
   "cell_type": "code",
   "execution_count": 11,
   "id": "1cfd1334",
   "metadata": {},
   "outputs": [
    {
     "data": {
      "text/plain": [
       "40"
      ]
     },
     "execution_count": 11,
     "metadata": {},
     "output_type": "execute_result"
    }
   ],
   "source": [
    "myStack.peek()"
   ]
  },
  {
   "cell_type": "code",
   "execution_count": 12,
   "id": "d5a0de40",
   "metadata": {},
   "outputs": [
    {
     "data": {
      "text/plain": [
       "40"
      ]
     },
     "execution_count": 12,
     "metadata": {},
     "output_type": "execute_result"
    }
   ],
   "source": [
    "myStack.pop()"
   ]
  },
  {
   "cell_type": "code",
   "execution_count": 13,
   "id": "c68c4d39",
   "metadata": {},
   "outputs": [
    {
     "data": {
      "text/plain": [
       "30"
      ]
     },
     "execution_count": 13,
     "metadata": {},
     "output_type": "execute_result"
    }
   ],
   "source": [
    "myStack.pop()"
   ]
  },
  {
   "cell_type": "code",
   "execution_count": null,
   "id": "d51986de",
   "metadata": {},
   "outputs": [],
   "source": []
  }
 ],
 "metadata": {
  "kernelspec": {
   "display_name": "Python 3 (ipykernel)",
   "language": "python",
   "name": "python3"
  },
  "language_info": {
   "codemirror_mode": {
    "name": "ipython",
    "version": 3
   },
   "file_extension": ".py",
   "mimetype": "text/x-python",
   "name": "python",
   "nbconvert_exporter": "python",
   "pygments_lexer": "ipython3",
   "version": "3.10.9"
  }
 },
 "nbformat": 4,
 "nbformat_minor": 5
}
