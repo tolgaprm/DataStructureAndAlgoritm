{
 "cells": [
  {
   "cell_type": "code",
   "execution_count": 5,
   "id": "452fdcdc",
   "metadata": {},
   "outputs": [],
   "source": [
    "class Deque():\n",
    "    \n",
    "    def __init__(self):\n",
    "        self.elements = []\n",
    "        \n",
    "    def size(self):\n",
    "        return len(self.elements)\n",
    "    \n",
    "    def isEmpty(self):\n",
    "        return self.elements == []\n",
    "    \n",
    "    def addRight(self,element):\n",
    "        self.elements.append(element)\n",
    "        \n",
    "    def removeRight(self):\n",
    "        return self.elements.pop()\n",
    "    \n",
    "    def addLeft(self,element):\n",
    "        self.elements.insert(0,element)\n",
    "    \n",
    "    def removeLeft(self):\n",
    "        return self.elements.pop(0)"
   ]
  },
  {
   "cell_type": "code",
   "execution_count": 6,
   "id": "bcb7d5e6",
   "metadata": {},
   "outputs": [],
   "source": [
    "myDeque = Deque()"
   ]
  },
  {
   "cell_type": "code",
   "execution_count": 7,
   "id": "ab7b11e7",
   "metadata": {},
   "outputs": [],
   "source": [
    "myDeque.addRight(10)"
   ]
  },
  {
   "cell_type": "code",
   "execution_count": 8,
   "id": "bea6c7bf",
   "metadata": {},
   "outputs": [],
   "source": [
    "myDeque.addRight(20)"
   ]
  },
  {
   "cell_type": "code",
   "execution_count": 9,
   "id": "b0264c6b",
   "metadata": {},
   "outputs": [],
   "source": [
    "# [10,20]"
   ]
  },
  {
   "cell_type": "code",
   "execution_count": 10,
   "id": "5730c13e",
   "metadata": {},
   "outputs": [],
   "source": [
    "myDeque.addLeft(30)"
   ]
  },
  {
   "cell_type": "code",
   "execution_count": 11,
   "id": "04259f35",
   "metadata": {},
   "outputs": [],
   "source": [
    "# [30,10,20]"
   ]
  },
  {
   "cell_type": "code",
   "execution_count": 12,
   "id": "42d85022",
   "metadata": {},
   "outputs": [],
   "source": [
    "myDeque.addLeft(40)"
   ]
  },
  {
   "cell_type": "code",
   "execution_count": 13,
   "id": "5b523e29",
   "metadata": {},
   "outputs": [],
   "source": [
    "# [40,30,10,20]"
   ]
  },
  {
   "cell_type": "code",
   "execution_count": 14,
   "id": "4919655b",
   "metadata": {},
   "outputs": [],
   "source": [
    "myDeque.addRight(50)"
   ]
  },
  {
   "cell_type": "code",
   "execution_count": 15,
   "id": "000dc58c",
   "metadata": {},
   "outputs": [],
   "source": [
    "# [40,30,10,20,50]"
   ]
  },
  {
   "cell_type": "code",
   "execution_count": 16,
   "id": "c0565aa1",
   "metadata": {},
   "outputs": [
    {
     "data": {
      "text/plain": [
       "5"
      ]
     },
     "execution_count": 16,
     "metadata": {},
     "output_type": "execute_result"
    }
   ],
   "source": [
    "myDeque.size()"
   ]
  },
  {
   "cell_type": "code",
   "execution_count": 17,
   "id": "f2bd62a9",
   "metadata": {},
   "outputs": [
    {
     "data": {
      "text/plain": [
       "40"
      ]
     },
     "execution_count": 17,
     "metadata": {},
     "output_type": "execute_result"
    }
   ],
   "source": [
    "myDeque.removeLeft()"
   ]
  },
  {
   "cell_type": "code",
   "execution_count": 18,
   "id": "c091e9e9",
   "metadata": {},
   "outputs": [
    {
     "data": {
      "text/plain": [
       "30"
      ]
     },
     "execution_count": 18,
     "metadata": {},
     "output_type": "execute_result"
    }
   ],
   "source": [
    "myDeque.removeLeft()"
   ]
  },
  {
   "cell_type": "code",
   "execution_count": 19,
   "id": "64331570",
   "metadata": {},
   "outputs": [
    {
     "data": {
      "text/plain": [
       "50"
      ]
     },
     "execution_count": 19,
     "metadata": {},
     "output_type": "execute_result"
    }
   ],
   "source": [
    "myDeque.removeRight()"
   ]
  },
  {
   "cell_type": "code",
   "execution_count": 20,
   "id": "beb1d17d",
   "metadata": {},
   "outputs": [
    {
     "data": {
      "text/plain": [
       "2"
      ]
     },
     "execution_count": 20,
     "metadata": {},
     "output_type": "execute_result"
    }
   ],
   "source": [
    "myDeque.size()"
   ]
  },
  {
   "cell_type": "code",
   "execution_count": null,
   "id": "d1798dda",
   "metadata": {},
   "outputs": [],
   "source": []
  }
 ],
 "metadata": {
  "kernelspec": {
   "display_name": "Python 3 (ipykernel)",
   "language": "python",
   "name": "python3"
  },
  "language_info": {
   "codemirror_mode": {
    "name": "ipython",
    "version": 3
   },
   "file_extension": ".py",
   "mimetype": "text/x-python",
   "name": "python",
   "nbconvert_exporter": "python",
   "pygments_lexer": "ipython3",
   "version": "3.10.9"
  }
 },
 "nbformat": 4,
 "nbformat_minor": 5
}
