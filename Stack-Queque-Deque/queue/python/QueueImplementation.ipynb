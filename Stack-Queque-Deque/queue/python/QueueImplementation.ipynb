{
 "cells": [
  {
   "cell_type": "code",
   "execution_count": 3,
   "id": "664d3bf8",
   "metadata": {},
   "outputs": [],
   "source": [
    "class Queque():\n",
    "    \n",
    "    def __init__(self):\n",
    "        self.elements = []\n",
    "        \n",
    "    def isEmpty(self):\n",
    "        return self.elements == []\n",
    "    \n",
    "    def enqueue(self,element):\n",
    "        self.elements.insert(0,element)\n",
    "        \n",
    "    def dequeue(self):\n",
    "        return self.elements.pop()"
   ]
  },
  {
   "cell_type": "code",
   "execution_count": 4,
   "id": "13390b3b",
   "metadata": {},
   "outputs": [],
   "source": [
    "myQueue = Queque()"
   ]
  },
  {
   "cell_type": "code",
   "execution_count": 5,
   "id": "6097837c",
   "metadata": {},
   "outputs": [],
   "source": [
    "myQueue.enqueue(10)\n",
    "myQueue.enqueue(20)\n",
    "myQueue.enqueue(30)"
   ]
  },
  {
   "cell_type": "code",
   "execution_count": 6,
   "id": "f8be54c3",
   "metadata": {},
   "outputs": [
    {
     "data": {
      "text/plain": [
       "10"
      ]
     },
     "execution_count": 6,
     "metadata": {},
     "output_type": "execute_result"
    }
   ],
   "source": [
    "myQueue.dequeue()"
   ]
  },
  {
   "cell_type": "code",
   "execution_count": 7,
   "id": "6922126e",
   "metadata": {},
   "outputs": [
    {
     "data": {
      "text/plain": [
       "False"
      ]
     },
     "execution_count": 7,
     "metadata": {},
     "output_type": "execute_result"
    }
   ],
   "source": [
    "myQueue.isEmpty()"
   ]
  },
  {
   "cell_type": "code",
   "execution_count": 8,
   "id": "3e2cc864",
   "metadata": {},
   "outputs": [
    {
     "data": {
      "text/plain": [
       "20"
      ]
     },
     "execution_count": 8,
     "metadata": {},
     "output_type": "execute_result"
    }
   ],
   "source": [
    "myQueue.dequeue()"
   ]
  },
  {
   "cell_type": "code",
   "execution_count": 9,
   "id": "5cec2031",
   "metadata": {},
   "outputs": [
    {
     "data": {
      "text/plain": [
       "30"
      ]
     },
     "execution_count": 9,
     "metadata": {},
     "output_type": "execute_result"
    }
   ],
   "source": [
    "myQueue.dequeue()"
   ]
  },
  {
   "cell_type": "code",
   "execution_count": 10,
   "id": "ee075408",
   "metadata": {},
   "outputs": [
    {
     "data": {
      "text/plain": [
       "True"
      ]
     },
     "execution_count": 10,
     "metadata": {},
     "output_type": "execute_result"
    }
   ],
   "source": [
    "myQueue.isEmpty()"
   ]
  },
  {
   "cell_type": "code",
   "execution_count": null,
   "id": "713f537c",
   "metadata": {},
   "outputs": [],
   "source": []
  }
 ],
 "metadata": {
  "kernelspec": {
   "display_name": "Python 3 (ipykernel)",
   "language": "python",
   "name": "python3"
  },
  "language_info": {
   "codemirror_mode": {
    "name": "ipython",
    "version": 3
   },
   "file_extension": ".py",
   "mimetype": "text/x-python",
   "name": "python",
   "nbconvert_exporter": "python",
   "pygments_lexer": "ipython3",
   "version": "3.10.9"
  }
 },
 "nbformat": 4,
 "nbformat_minor": 5
}
