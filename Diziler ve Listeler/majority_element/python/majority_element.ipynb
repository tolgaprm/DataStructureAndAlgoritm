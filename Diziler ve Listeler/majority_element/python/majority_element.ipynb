{
 "cells": [
  {
   "cell_type": "code",
   "execution_count": 10,
   "id": "43146dcf",
   "metadata": {},
   "outputs": [],
   "source": [
    "def majorityElement(nums):\n",
    "    numbers = {}\n",
    "    result =0\n",
    "    maxNumber=0\n",
    "    for num in nums:\n",
    "        numbers[num] = 1 + numbers.get(num,0)\n",
    "        if(numbers[num] > maxNumber):\n",
    "            result = num\n",
    "            maxNumber = max(maxNumber,numbers[num])\n",
    "    return result"
   ]
  },
  {
   "cell_type": "code",
   "execution_count": 11,
   "id": "a9818395",
   "metadata": {},
   "outputs": [
    {
     "data": {
      "text/plain": [
       "3"
      ]
     },
     "execution_count": 11,
     "metadata": {},
     "output_type": "execute_result"
    }
   ],
   "source": [
    "majorityElement([3,2,1,3])"
   ]
  },
  {
   "cell_type": "code",
   "execution_count": null,
   "id": "3771e60e",
   "metadata": {},
   "outputs": [],
   "source": []
  }
 ],
 "metadata": {
  "kernelspec": {
   "display_name": "Python 3 (ipykernel)",
   "language": "python",
   "name": "python3"
  },
  "language_info": {
   "codemirror_mode": {
    "name": "ipython",
    "version": 3
   },
   "file_extension": ".py",
   "mimetype": "text/x-python",
   "name": "python",
   "nbconvert_exporter": "python",
   "pygments_lexer": "ipython3",
   "version": "3.10.9"
  }
 },
 "nbformat": 4,
 "nbformat_minor": 5
}
