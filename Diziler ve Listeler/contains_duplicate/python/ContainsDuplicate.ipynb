{
 "cells": [
  {
   "cell_type": "code",
   "execution_count": 1,
   "id": "56222801",
   "metadata": {},
   "outputs": [],
   "source": [
    "nums = [1,1,1,3,3,4,3,2,4,2]"
   ]
  },
  {
   "cell_type": "code",
   "execution_count": 3,
   "id": "623addca",
   "metadata": {},
   "outputs": [
    {
     "name": "stdout",
     "output_type": "stream",
     "text": [
      "True\n"
     ]
    }
   ],
   "source": [
    "def containsDuplicate(nums):\n",
    "    numSet = set(nums)\n",
    "    return len(numSet) < len(nums)\n",
    "\n",
    "print(containsDuplicate(nums))"
   ]
  },
  {
   "cell_type": "code",
   "execution_count": null,
   "id": "91d9a866",
   "metadata": {},
   "outputs": [],
   "source": []
  }
 ],
 "metadata": {
  "kernelspec": {
   "display_name": "Python 3 (ipykernel)",
   "language": "python",
   "name": "python3"
  },
  "language_info": {
   "codemirror_mode": {
    "name": "ipython",
    "version": 3
   },
   "file_extension": ".py",
   "mimetype": "text/x-python",
   "name": "python",
   "nbconvert_exporter": "python",
   "pygments_lexer": "ipython3",
   "version": "3.10.9"
  }
 },
 "nbformat": 4,
 "nbformat_minor": 5
}
